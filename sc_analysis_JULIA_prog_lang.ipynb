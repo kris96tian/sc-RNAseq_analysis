{
 "cells": [
  {
   "cell_type": "markdown",
   "id": "f80b9e84-838d-4119-b859-e729287291ac",
   "metadata": {},
   "source": [
    "***SINGLE CELL - Data - ANALYSIS - Julia***"
   ]
  },
  {
   "cell_type": "code",
   "execution_count": 6,
   "id": "9675d402-4d63-46de-9c7f-3a7389a84724",
   "metadata": {},
   "outputs": [],
   "source": [
    "using SingleCellProjections, DataFrames, CSV\n",
    "using SparseArrays, DataFrames, LinearAlgebra\n",
    "using UMAP, TSne"
   ]
  },
  {
   "cell_type": "code",
   "execution_count": 4,
   "id": "1913acbc-319a-4fe7-a210-cc1ac7b6a140",
   "metadata": {},
   "outputs": [
    {
     "data": {
      "text/plain": [
       "f (generic function with 1 method)"
      ]
     },
     "execution_count": 4,
     "metadata": {},
     "output_type": "execute_result"
    }
   ],
   "source": [
    "# function to extract a data from DataMatrix\n",
    "\n",
    "function f(col, n; h=10, t=10, filler=\"\")\n",
    "   @assert h+t <= n\n",
    "   pre = string(col[1:h])\n",
    "   mid = string(\"fill(\\\"\", filler, \"\\\", \", n-h-t, \")\")\n",
    "   post = string(col[end-t+1:end])\n",
    "  string(\"vcat(\", pre, \", \", mid, \", \", post, ')')\n",
    "end"
   ]
  },
  {
   "cell_type": "code",
   "execution_count": 7,
   "id": "ca1e005a-a14d-4cb4-825b-d5cd65e61033",
   "metadata": {},
   "outputs": [
    {
     "data": {
      "text/plain": [
       "load_counts (generic function with 1 method)"
      ]
     },
     "execution_count": 7,
     "metadata": {},
     "output_type": "execute_result"
    }
   ],
   "source": [
    "# function to loadCounts\n",
    "\n",
    "function load_counts(args...; sample_names, kwargs...) \n",
    "    P = 33766\n",
    "    N = \"P1\" in sample_names ? 35340 : 42553\n",
    "    # X = sparse(Int32[], Int32[], Int[], P, N)\n",
    "    # X = sparse(ones(Int32,N), Int32.(1:N), 1:N, P, N)\n",
    "\n",
    "    I = repeat(Int32[1,2]; inner=N)\n",
    "    J = vcat(Int32.(1:N), Int32.(1:N))\n",
    "    V = vcat(1:N, div.(N:-1:1,3))\n",
    "    X = sparse(I,J,V,P,N)\n",
    "\n",
    "    v_id = vcat([\"MIR1302-2HG\", \"FAM138A\", \"OR4F5\", \"AL627309.1\", \"AL627309.3\", \"AL627309.2\", \"AL627309.4\", \"AL732372.1\", \"OR4F29\", \"AC114498.1\"], string.(\"dummy_\", 1:33746), [\"CD169\", \"CD28\", \"CD161\", \"CD163\", \"CD138-1\", \"CD164\", \"CD138-2\", \"CD144\", \"CD202b\", \"CD11c\"])\n",
    "    v_feature_type = vcat(fill(\"Gene Expression\",33538), fill(\"Antibody Capture\", P-33538))\n",
    "\n",
    "    v_id[33497:33509] .= string.(\"MT-\", 1:13)\n",
    "\n",
    "    o_id = vcat([\"P1_L1_AAACCCAAGACATACA\", \"P1_L1_AAACCCACATCGGTTA\", \"P1_L1_AAACCCAGTGGAACAC\", \"P1_L1_AAACCCATCTGCGGAC\", \"P1_L1_AAACGAAAGTTACTCG\", \"P1_L1_AAACGAACAATGAGCG\", \"P1_L1_AAACGAACACTCCTTG\", \"P1_L1_AAACGAACAGCATCTA\", \"P1_L1_AAACGAATCCTCACCA\", \"P1_L1_AAACGAATCTCACTCG\"], string.(\"dummy_\", 1:N-20), [\"P2_L5_TTTGGTTGTCCGAAAG\", \"P2_L5_TTTGGTTTCCTCTAGC\", \"P2_L5_TTTGGTTTCGTAGGGA\", \"P2_L5_TTTGGTTTCTTTGATC\", \"P2_L5_TTTGTTGAGTGTACCT\", \"P2_L5_TTTGTTGGTACGATCT\", \"P2_L5_TTTGTTGGTCCTTAAG\", \"P2_L5_TTTGTTGTCAACACCA\", \"P2_L5_TTTGTTGTCATGCATG\", \"P2_L5_TTTGTTGTCCGTGCGA\"])\n",
    "    o_sampleName = vcat(fill(\"P1\",18135), fill(\"P2\", N-18135))\n",
    "    o_barcode = vcat([\"L1_AAACCCAAGACATACA\", \"L1_AAACCCACATCGGTTA\", \"L1_AAACCCAGTGGAACAC\", \"L1_AAACCCATCTGCGGAC\", \"L1_AAACGAAAGTTACTCG\", \"L1_AAACGAACAATGAGCG\", \"L1_AAACGAACACTCCTTG\", \"L1_AAACGAACAGCATCTA\", \"L1_AAACGAATCCTCACCA\", \"L1_AAACGAATCTCACTCG\"], string.(\"dummy_\", 1:N-20), [\"L5_TTTGGTTGTCCGAAAG\", \"L5_TTTGGTTTCCTCTAGC\", \"L5_TTTGGTTTCGTAGGGA\", \"L5_TTTGGTTTCTTTGATC\", \"L5_TTTGTTGAGTGTACCT\", \"L5_TTTGTTGGTACGATCT\", \"L5_TTTGTTGGTCCTTAAG\", \"L5_TTTGTTGTCAACACCA\", \"L5_TTTGTTGTCATGCATG\", \"L5_TTTGTTGTCCGTGCGA\"])\n",
    "\n",
    "    v = DataFrame(id=v_id, feature_type=v_feature_type, name=v_id, genome=\"hg19\", read=\"\", pattern=\"\", sequence=\"\")\n",
    "    o = DataFrame(id=o_id, sampleName=o_sampleName, barcode=o_barcode)\n",
    "    counts = DataMatrix(X, v, o)\n",
    "end\n"
   ]
  },
  {
   "cell_type": "code",
   "execution_count": 8,
   "id": "5d751ced-e976-42cc-a27e-8f6cc014383b",
   "metadata": {},
   "outputs": [
    {
     "data": {
      "text/plain": [
       "tsne (generic function with 1 method)"
      ]
     },
     "execution_count": 8,
     "metadata": {},
     "output_type": "execute_result"
    }
   ],
   "source": [
    "\n",
    "\n",
    "# SingleCellProjections.sctransform(counts; use_cache=false, verbose=false)\n",
    "function sctransform(counts)\n",
    "    m = SCTransformModel(counts; use_cache=false, verbose=false)\n",
    "    nvar = 20239\n",
    "    append!(m.params, m.params[mod1.(1:nvar-size(m.params,1),2),:])\n",
    "    m.params.id = counts.var.id[1:nvar]\n",
    "    project(counts, m; verbose=false)\n",
    "end\n",
    "\n",
    "svd(args...; nsv, kwargs...) = LinearAlgebra.svd(args...; nsv, subspacedims=nsv, niter=1, kwargs...)\n",
    "force_layout(args...; kwargs...) = SingleCellProjections.force_layout(reduced; niter=1, kwargs...)\n",
    "\n",
    "umap(args...; kwargs...) = UMAP.umap(args...; n_epochs=1, init=:random, n_neighbors=2, kwargs...)\n",
    "tsne(data, d; kwargs...) = TSne.tsne(data, d, 0, 1, 5; verbose=false, progress=false, kwargs...) "
   ]
  },
  {
   "cell_type": "markdown",
   "id": "abb962c2-f87d-4b67-9a65-f8872290e4b2",
   "metadata": {},
   "source": [
    "***Start Analysis...***"
   ]
  },
  {
   "cell_type": "code",
   "execution_count": 10,
   "id": "69120d4d-e305-402e-96c0-e713917ca90c",
   "metadata": {},
   "outputs": [
    {
     "data": {
      "text/plain": [
       "DataMatrix (33766 variables and 35340 observations)\n",
       "  SparseMatrixCSC{Int64, Int32}\n",
       "  Variables: \u001b[0m\u001b[4mid\u001b[24m, \u001b[0m\u001b[4mfeature_type\u001b[24m, \u001b[0mname, \u001b[0mgenome, \u001b[0mread, \u001b[0mpattern, \u001b[0msequence\n",
       "  Observations: \u001b[0m\u001b[4mid\u001b[24m, \u001b[0msampleName, \u001b[0mbarcode"
      ]
     },
     "execution_count": 10,
     "metadata": {},
     "output_type": "execute_result"
    }
   ],
   "source": [
    "## Paths to data\n",
    "main_path = \"JULIA_BIO/scRNA/\";\n",
    "sample_paths = joinpath.(main_path, [\"GSE164378_RNA_ADT_3P_P1.h5\", \"GSE164378_RNA_ADT_3P_P2.h5\"]);\n",
    "\n",
    "counts = load_counts(sample_paths; sample_names=[\"P1\",\"P2\"])"
   ]
  },
  {
   "cell_type": "code",
   "execution_count": 11,
   "id": "4f61a978-3060-40bf-9a82-82df48f77047",
   "metadata": {},
   "outputs": [
    {
     "data": {
      "text/plain": [
       "DataMatrix (33766 variables and 35340 observations)\n",
       "  SparseMatrixCSC{Int64, Int32}\n",
       "  Variables: \u001b[0m\u001b[4mid\u001b[24m, \u001b[0m\u001b[4mfeature_type\u001b[24m, \u001b[0mname, \u001b[0mgenome, \u001b[0mread, \u001b[0mpattern, \u001b[0msequence\n",
       "  Observations: \u001b[0m\u001b[4mid\u001b[24m, \u001b[0msampleName, \u001b[0mbarcode, \u001b[0mfraction_mt\n",
       "  Models: VarCountsFractionModel(subset_size=13, total_size=33538, col=\"fraction_mt\")"
      ]
     },
     "execution_count": 11,
     "metadata": {},
     "output_type": "execute_result"
    }
   ],
   "source": [
    "## Cell Annotation\n",
    "\n",
    "var_counts_fraction!(counts, \"name\"=>contains(r\"^MT-\"), \"feature_type\"=>isequal(\"Gene Expression\"), \"fraction_mt\")"
   ]
  },
  {
   "cell_type": "code",
   "execution_count": 25,
   "id": "a3623b67-c320-4aed-8768-09df3fdf19e2",
   "metadata": {},
   "outputs": [
    {
     "data": {
      "text/html": [
       "<div><div style = \"float: left;\"><span>12×14 DataFrame</span></div><div style = \"clear: both;\"></div></div><div class = \"data-frame\" style = \"overflow-x: scroll;\"><table class = \"data-frame\" style = \"margin-bottom: 6px;\"><thead><tr class = \"header\"><th class = \"rowNumber\" style = \"font-weight: bold; text-align: right;\">Row</th><th style = \"text-align: left;\">barcode</th><th style = \"text-align: left;\">nCount_ADT</th><th style = \"text-align: left;\">nFeature_ADT</th><th style = \"text-align: left;\">nCount_RNA</th><th style = \"text-align: left;\">nFeature_RNA</th><th style = \"text-align: left;\">orig.ident</th><th style = \"text-align: left;\">lane</th><th style = \"text-align: left;\">donor</th><th style = \"text-align: left;\">time</th><th style = \"text-align: left;\">celltype.l1</th><th style = \"text-align: left;\">celltype.l2</th><th style = \"text-align: left;\">celltype.l3</th><th style = \"text-align: left;\">Phase</th><th style = \"text-align: left;\">Batch</th></tr><tr class = \"subheader headerLastRow\"><th class = \"rowNumber\" style = \"font-weight: bold; text-align: right;\"></th><th title = \"String31\" style = \"text-align: left;\">String31</th><th title = \"Int64\" style = \"text-align: left;\">Int64</th><th title = \"Int64\" style = \"text-align: left;\">Int64</th><th title = \"Int64\" style = \"text-align: left;\">Int64</th><th title = \"Int64\" style = \"text-align: left;\">Int64</th><th title = \"String15\" style = \"text-align: left;\">String15</th><th title = \"String3\" style = \"text-align: left;\">String3</th><th title = \"String3\" style = \"text-align: left;\">String3</th><th title = \"Int64\" style = \"text-align: left;\">Int64</th><th title = \"String7\" style = \"text-align: left;\">String7</th><th title = \"String15\" style = \"text-align: left;\">String15</th><th title = \"String31\" style = \"text-align: left;\">String31</th><th title = \"String3\" style = \"text-align: left;\">String3</th><th title = \"String7\" style = \"text-align: left;\">String7</th></tr></thead><tbody><tr><td class = \"rowNumber\" style = \"font-weight: bold; text-align: right;\">1</td><td style = \"text-align: left;\">L1_AAACCCAAGAAACTCA</td><td style = \"text-align: right;\">7535</td><td style = \"text-align: right;\">217</td><td style = \"text-align: right;\">10823</td><td style = \"text-align: right;\">2915</td><td style = \"text-align: left;\">SeuratProject</td><td style = \"text-align: left;\">L1</td><td style = \"text-align: left;\">P2</td><td style = \"text-align: right;\">7</td><td style = \"text-align: left;\">Mono</td><td style = \"text-align: left;\">CD14 Mono</td><td style = \"text-align: left;\">CD14 Mono</td><td style = \"text-align: left;\">G1</td><td style = \"text-align: left;\">Batch1</td></tr><tr><td class = \"rowNumber\" style = \"font-weight: bold; text-align: right;\">2</td><td style = \"text-align: left;\">L1_AAACCCAAGACATACA</td><td style = \"text-align: right;\">6013</td><td style = \"text-align: right;\">209</td><td style = \"text-align: right;\">5864</td><td style = \"text-align: right;\">1617</td><td style = \"text-align: left;\">SeuratProject</td><td style = \"text-align: left;\">L1</td><td style = \"text-align: left;\">P1</td><td style = \"text-align: right;\">7</td><td style = \"text-align: left;\">CD4 T</td><td style = \"text-align: left;\">CD4 TCM</td><td style = \"text-align: left;\">CD4 TCM_1</td><td style = \"text-align: left;\">G1</td><td style = \"text-align: left;\">Batch1</td></tr><tr><td class = \"rowNumber\" style = \"font-weight: bold; text-align: right;\">3</td><td style = \"text-align: left;\">L1_AAACCCACAACTGGTT</td><td style = \"text-align: right;\">6620</td><td style = \"text-align: right;\">213</td><td style = \"text-align: right;\">5067</td><td style = \"text-align: right;\">1381</td><td style = \"text-align: left;\">SeuratProject</td><td style = \"text-align: left;\">L1</td><td style = \"text-align: left;\">P4</td><td style = \"text-align: right;\">2</td><td style = \"text-align: left;\">CD8 T</td><td style = \"text-align: left;\">CD8 Naive</td><td style = \"text-align: left;\">CD8 Naive</td><td style = \"text-align: left;\">S</td><td style = \"text-align: left;\">Batch1</td></tr><tr><td class = \"rowNumber\" style = \"font-weight: bold; text-align: right;\">4</td><td style = \"text-align: left;\">L1_AAACCCACACGTACTA</td><td style = \"text-align: right;\">3567</td><td style = \"text-align: right;\">202</td><td style = \"text-align: right;\">4786</td><td style = \"text-align: right;\">1890</td><td style = \"text-align: left;\">SeuratProject</td><td style = \"text-align: left;\">L1</td><td style = \"text-align: left;\">P3</td><td style = \"text-align: right;\">7</td><td style = \"text-align: left;\">NK</td><td style = \"text-align: left;\">NK</td><td style = \"text-align: left;\">NK_2</td><td style = \"text-align: left;\">G1</td><td style = \"text-align: left;\">Batch1</td></tr><tr><td class = \"rowNumber\" style = \"font-weight: bold; text-align: right;\">5</td><td style = \"text-align: left;\">L1_AAACCCACAGCATACT</td><td style = \"text-align: right;\">6402</td><td style = \"text-align: right;\">215</td><td style = \"text-align: right;\">6505</td><td style = \"text-align: right;\">1621</td><td style = \"text-align: left;\">SeuratProject</td><td style = \"text-align: left;\">L1</td><td style = \"text-align: left;\">P4</td><td style = \"text-align: right;\">7</td><td style = \"text-align: left;\">CD8 T</td><td style = \"text-align: left;\">CD8 Naive</td><td style = \"text-align: left;\">CD8 Naive</td><td style = \"text-align: left;\">G1</td><td style = \"text-align: left;\">Batch1</td></tr><tr><td class = \"rowNumber\" style = \"font-weight: bold; text-align: right;\">6</td><td style = \"text-align: left;\">L1_AAACCCACATCAGTCA</td><td style = \"text-align: right;\">5297</td><td style = \"text-align: right;\">212</td><td style = \"text-align: right;\">4332</td><td style = \"text-align: right;\">1633</td><td style = \"text-align: left;\">SeuratProject</td><td style = \"text-align: left;\">L1</td><td style = \"text-align: left;\">P3</td><td style = \"text-align: right;\">2</td><td style = \"text-align: left;\">CD8 T</td><td style = \"text-align: left;\">CD8 TEM</td><td style = \"text-align: left;\">CD8 TEM_1</td><td style = \"text-align: left;\">G1</td><td style = \"text-align: left;\">Batch1</td></tr><tr><td class = \"rowNumber\" style = \"font-weight: bold; text-align: right;\">7</td><td style = \"text-align: left;\">L1_AAACCCACATCGGTTA</td><td style = \"text-align: right;\">7634</td><td style = \"text-align: right;\">219</td><td style = \"text-align: right;\">9333</td><td style = \"text-align: right;\">2672</td><td style = \"text-align: left;\">SeuratProject</td><td style = \"text-align: left;\">L1</td><td style = \"text-align: left;\">P1</td><td style = \"text-align: right;\">7</td><td style = \"text-align: left;\">Mono</td><td style = \"text-align: left;\">CD16 Mono</td><td style = \"text-align: left;\">CD16 Mono</td><td style = \"text-align: left;\">G1</td><td style = \"text-align: left;\">Batch1</td></tr><tr><td class = \"rowNumber\" style = \"font-weight: bold; text-align: right;\">8</td><td style = \"text-align: left;\">L1_AAACCCACATGGATCT</td><td style = \"text-align: right;\">8210</td><td style = \"text-align: right;\">222</td><td style = \"text-align: right;\">3589</td><td style = \"text-align: right;\">1122</td><td style = \"text-align: left;\">SeuratProject</td><td style = \"text-align: left;\">L1</td><td style = \"text-align: left;\">P4</td><td style = \"text-align: right;\">2</td><td style = \"text-align: left;\">B</td><td style = \"text-align: left;\">B intermediate</td><td style = \"text-align: left;\">B intermediate lambda</td><td style = \"text-align: left;\">G1</td><td style = \"text-align: left;\">Batch1</td></tr><tr><td class = \"rowNumber\" style = \"font-weight: bold; text-align: right;\">9</td><td style = \"text-align: left;\">L1_AAACCCAGTGGAACAC</td><td style = \"text-align: right;\">2847</td><td style = \"text-align: right;\">201</td><td style = \"text-align: right;\">3251</td><td style = \"text-align: right;\">1375</td><td style = \"text-align: left;\">SeuratProject</td><td style = \"text-align: left;\">L1</td><td style = \"text-align: left;\">P1</td><td style = \"text-align: right;\">2</td><td style = \"text-align: left;\">NK</td><td style = \"text-align: left;\">NK</td><td style = \"text-align: left;\">NK_2</td><td style = \"text-align: left;\">G2M</td><td style = \"text-align: left;\">Batch1</td></tr><tr><td class = \"rowNumber\" style = \"font-weight: bold; text-align: right;\">10</td><td style = \"text-align: left;\">L1_AAACCCATCCACACCT</td><td style = \"text-align: right;\">4557</td><td style = \"text-align: right;\">209</td><td style = \"text-align: right;\">3401</td><td style = \"text-align: right;\">1200</td><td style = \"text-align: left;\">SeuratProject</td><td style = \"text-align: left;\">L1</td><td style = \"text-align: left;\">P3</td><td style = \"text-align: right;\">2</td><td style = \"text-align: left;\">CD8 T</td><td style = \"text-align: left;\">CD8 Naive</td><td style = \"text-align: left;\">CD8 Naive</td><td style = \"text-align: left;\">S</td><td style = \"text-align: left;\">Batch1</td></tr><tr><td class = \"rowNumber\" style = \"font-weight: bold; text-align: right;\">11</td><td style = \"text-align: left;\">L1_AAACCCATCTGCGGAC</td><td style = \"text-align: right;\">5129</td><td style = \"text-align: right;\">212</td><td style = \"text-align: right;\">4198</td><td style = \"text-align: right;\">1318</td><td style = \"text-align: left;\">SeuratProject</td><td style = \"text-align: left;\">L1</td><td style = \"text-align: left;\">P1</td><td style = \"text-align: right;\">0</td><td style = \"text-align: left;\">CD4 T</td><td style = \"text-align: left;\">CD4 TCM</td><td style = \"text-align: left;\">CD4 TCM_1</td><td style = \"text-align: left;\">S</td><td style = \"text-align: left;\">Batch1</td></tr><tr><td class = \"rowNumber\" style = \"font-weight: bold; text-align: right;\">12</td><td style = \"text-align: left;\">L1_AAACGAAAGTTACTCG</td><td style = \"text-align: right;\">7630</td><td style = \"text-align: right;\">208</td><td style = \"text-align: right;\">5486</td><td style = \"text-align: right;\">1390</td><td style = \"text-align: left;\">SeuratProject</td><td style = \"text-align: left;\">L1</td><td style = \"text-align: left;\">P1</td><td style = \"text-align: right;\">0</td><td style = \"text-align: left;\">CD4 T</td><td style = \"text-align: left;\">CD4 TCM</td><td style = \"text-align: left;\">CD4 TCM_3</td><td style = \"text-align: left;\">G1</td><td style = \"text-align: left;\">Batch1</td></tr></tbody></table></div>"
      ],
      "text/latex": [
       "\\begin{tabular}{r|ccccccc}\n",
       "\t& barcode & nCount\\_ADT & nFeature\\_ADT & nCount\\_RNA & nFeature\\_RNA & orig.ident & \\\\\n",
       "\t\\hline\n",
       "\t& String31 & Int64 & Int64 & Int64 & Int64 & String15 & \\\\\n",
       "\t\\hline\n",
       "\t1 & L1\\_AAACCCAAGAAACTCA & 7535 & 217 & 10823 & 2915 & SeuratProject & $\\dots$ \\\\\n",
       "\t2 & L1\\_AAACCCAAGACATACA & 6013 & 209 & 5864 & 1617 & SeuratProject & $\\dots$ \\\\\n",
       "\t3 & L1\\_AAACCCACAACTGGTT & 6620 & 213 & 5067 & 1381 & SeuratProject & $\\dots$ \\\\\n",
       "\t4 & L1\\_AAACCCACACGTACTA & 3567 & 202 & 4786 & 1890 & SeuratProject & $\\dots$ \\\\\n",
       "\t5 & L1\\_AAACCCACAGCATACT & 6402 & 215 & 6505 & 1621 & SeuratProject & $\\dots$ \\\\\n",
       "\t6 & L1\\_AAACCCACATCAGTCA & 5297 & 212 & 4332 & 1633 & SeuratProject & $\\dots$ \\\\\n",
       "\t7 & L1\\_AAACCCACATCGGTTA & 7634 & 219 & 9333 & 2672 & SeuratProject & $\\dots$ \\\\\n",
       "\t8 & L1\\_AAACCCACATGGATCT & 8210 & 222 & 3589 & 1122 & SeuratProject & $\\dots$ \\\\\n",
       "\t9 & L1\\_AAACCCAGTGGAACAC & 2847 & 201 & 3251 & 1375 & SeuratProject & $\\dots$ \\\\\n",
       "\t10 & L1\\_AAACCCATCCACACCT & 4557 & 209 & 3401 & 1200 & SeuratProject & $\\dots$ \\\\\n",
       "\t11 & L1\\_AAACCCATCTGCGGAC & 5129 & 212 & 4198 & 1318 & SeuratProject & $\\dots$ \\\\\n",
       "\t12 & L1\\_AAACGAAAGTTACTCG & 7630 & 208 & 5486 & 1390 & SeuratProject & $\\dots$ \\\\\n",
       "\\end{tabular}\n"
      ],
      "text/plain": [
       "\u001b[1m12×14 DataFrame\u001b[0m\n",
       "\u001b[1m Row \u001b[0m│\u001b[1m barcode             \u001b[0m\u001b[1m nCount_ADT \u001b[0m\u001b[1m nFeature_ADT \u001b[0m\u001b[1m nCount_RNA \u001b[0m\u001b[1m nFeature_RNA\u001b[0m ⋯\n",
       "     │\u001b[90m String31            \u001b[0m\u001b[90m Int64      \u001b[0m\u001b[90m Int64        \u001b[0m\u001b[90m Int64      \u001b[0m\u001b[90m Int64       \u001b[0m ⋯\n",
       "─────┼──────────────────────────────────────────────────────────────────────────\n",
       "   1 │ L1_AAACCCAAGAAACTCA        7535           217       10823          2915 ⋯\n",
       "   2 │ L1_AAACCCAAGACATACA        6013           209        5864          1617\n",
       "   3 │ L1_AAACCCACAACTGGTT        6620           213        5067          1381\n",
       "   4 │ L1_AAACCCACACGTACTA        3567           202        4786          1890\n",
       "   5 │ L1_AAACCCACAGCATACT        6402           215        6505          1621 ⋯\n",
       "   6 │ L1_AAACCCACATCAGTCA        5297           212        4332          1633\n",
       "   7 │ L1_AAACCCACATCGGTTA        7634           219        9333          2672\n",
       "   8 │ L1_AAACCCACATGGATCT        8210           222        3589          1122\n",
       "   9 │ L1_AAACCCAGTGGAACAC        2847           201        3251          1375 ⋯\n",
       "  10 │ L1_AAACCCATCCACACCT        4557           209        3401          1200\n",
       "  11 │ L1_AAACCCATCTGCGGAC        5129           212        4198          1318\n",
       "  12 │ L1_AAACGAAAGTTACTCG        7630           208        5486          1390\n",
       "\u001b[36m                                                               9 columns omitted\u001b[0m"
      ]
     },
     "execution_count": 25,
     "metadata": {},
     "output_type": "execute_result"
    }
   ],
   "source": [
    "\n",
    "counts.obs.fraction_mt[1:10] = [194/5864,606/9333,176/3251,299/4198,343/5486,473/7379,196/4444,174/5693,160/4525,156/3519]\n",
    "\n",
    "csv_str = \"\"\"barcode,nCount_ADT,nFeature_ADT,nCount_RNA,nFeature_RNA,orig.ident,lane,donor,time,celltype.l1,celltype.l2,celltype.l3,Phase,Batch\n",
    "          L1_AAACCCAAGAAACTCA,7535,217,10823,2915,SeuratProject,L1,P2,7,Mono,CD14 Mono,CD14 Mono,G1,Batch1\n",
    "          L1_AAACCCAAGACATACA,6013,209,5864,1617,SeuratProject,L1,P1,7,CD4 T,CD4 TCM,CD4 TCM_1,G1,Batch1\n",
    "          L1_AAACCCACAACTGGTT,6620,213,5067,1381,SeuratProject,L1,P4,2,CD8 T,CD8 Naive,CD8 Naive,S,Batch1\n",
    "          L1_AAACCCACACGTACTA,3567,202,4786,1890,SeuratProject,L1,P3,7,NK,NK,NK_2,G1,Batch1\n",
    "          L1_AAACCCACAGCATACT,6402,215,6505,1621,SeuratProject,L1,P4,7,CD8 T,CD8 Naive,CD8 Naive,G1,Batch1\n",
    "          L1_AAACCCACATCAGTCA,5297,212,4332,1633,SeuratProject,L1,P3,2,CD8 T,CD8 TEM,CD8 TEM_1,G1,Batch1\n",
    "          L1_AAACCCACATCGGTTA,7634,219,9333,2672,SeuratProject,L1,P1,7,Mono,CD16 Mono,CD16 Mono,G1,Batch1\n",
    "          L1_AAACCCACATGGATCT,8210,222,3589,1122,SeuratProject,L1,P4,2,B,B intermediate,B intermediate lambda,G1,Batch1\n",
    "          L1_AAACCCAGTGGAACAC,2847,201,3251,1375,SeuratProject,L1,P1,2,NK,NK,NK_2,G2M,Batch1\n",
    "          L1_AAACCCATCCACACCT,4557,209,3401,1200,SeuratProject,L1,P3,2,CD8 T,CD8 Naive,CD8 Naive,S,Batch1\n",
    "          L1_AAACCCATCTGCGGAC,5129,212,4198,1318,SeuratProject,L1,P1,0,CD4 T,CD4 TCM,CD4 TCM_1,S,Batch1\n",
    "          L1_AAACGAAAGTTACTCG,7630,208,5486,1390,SeuratProject,L1,P1,0,CD4 T,CD4 TCM,CD4 TCM_3,G1,Batch1\n",
    "          \"\"\"\n",
    "cell_annotations = CSV.read(codeunits(csv_str), DataFrame)"
   ]
  },
  {
   "cell_type": "code",
   "execution_count": 26,
   "id": "1745a6d9-4fbc-439e-8c74-8f1619ba16e2",
   "metadata": {},
   "outputs": [],
   "source": [
    "leftjoin!(counts.obs, cell_annotations; on=:barcode);"
   ]
  },
  {
   "cell_type": "code",
   "execution_count": 27,
   "id": "78651b89-9163-407b-a9e1-ad4d7aa46005",
   "metadata": {},
   "outputs": [
    {
     "data": {
      "text/plain": [
       "701-element view(::Vector{Union{Missing, String7}}, 34640:35340) with eltype Union{Missing, String7}:\n",
       " \"other\"\n",
       " \"other\"\n",
       " \"other\"\n",
       " \"other\"\n",
       " \"other\"\n",
       " \"other\"\n",
       " \"other\"\n",
       " \"other\"\n",
       " \"other\"\n",
       " \"other\"\n",
       " \"other\"\n",
       " \"other\"\n",
       " \"other\"\n",
       " ⋮\n",
       " \"other\"\n",
       " \"other\"\n",
       " \"other\"\n",
       " \"other\"\n",
       " \"other\"\n",
       " \"other\"\n",
       " \"other\"\n",
       " \"other\"\n",
       " \"other\"\n",
       " \"other\"\n",
       " \"other\"\n",
       " \"other\""
      ]
     },
     "execution_count": 27,
     "metadata": {},
     "output_type": "execute_result"
    }
   ],
   "source": [
    "counts.obs[34639+1:end,\"celltype.l1\"] .= \"other\""
   ]
  },
  {
   "cell_type": "code",
   "execution_count": 28,
   "id": "585657b9-a56e-443b-a39f-acb48e76fa42",
   "metadata": {},
   "outputs": [
    {
     "data": {
      "text/html": [
       "<div><div style = \"float: left;\"><span>5×5 DataFrame</span></div><div style = \"clear: both;\"></div></div><div class = \"data-frame\" style = \"overflow-x: scroll;\"><table class = \"data-frame\" style = \"margin-bottom: 6px;\"><thead><tr class = \"header\"><th class = \"rowNumber\" style = \"font-weight: bold; text-align: right;\">Row</th><th style = \"text-align: left;\">id</th><th style = \"text-align: left;\">sampleName</th><th style = \"text-align: left;\">barcode</th><th style = \"text-align: left;\">fraction_mt</th><th style = \"text-align: left;\">celltype.l1</th></tr><tr class = \"subheader headerLastRow\"><th class = \"rowNumber\" style = \"font-weight: bold; text-align: right;\"></th><th title = \"String\" style = \"text-align: left;\">String</th><th title = \"String\" style = \"text-align: left;\">String</th><th title = \"String\" style = \"text-align: left;\">String</th><th title = \"Float64\" style = \"text-align: left;\">Float64</th><th title = \"Union{Missing, String7}\" style = \"text-align: left;\">String7?</th></tr></thead><tbody><tr><td class = \"rowNumber\" style = \"font-weight: bold; text-align: right;\">1</td><td style = \"text-align: left;\">P1_L1_AAACCCAAGACATACA</td><td style = \"text-align: left;\">P1</td><td style = \"text-align: left;\">L1_AAACCCAAGACATACA</td><td style = \"text-align: right;\">0.0330832</td><td style = \"text-align: left;\">CD4 T</td></tr><tr><td class = \"rowNumber\" style = \"font-weight: bold; text-align: right;\">2</td><td style = \"text-align: left;\">P1_L1_AAACCCACATCGGTTA</td><td style = \"text-align: left;\">P1</td><td style = \"text-align: left;\">L1_AAACCCACATCGGTTA</td><td style = \"text-align: right;\">0.0649309</td><td style = \"text-align: left;\">Mono</td></tr><tr><td class = \"rowNumber\" style = \"font-weight: bold; text-align: right;\">3</td><td style = \"text-align: left;\">P1_L1_AAACCCAGTGGAACAC</td><td style = \"text-align: left;\">P1</td><td style = \"text-align: left;\">L1_AAACCCAGTGGAACAC</td><td style = \"text-align: right;\">0.0541372</td><td style = \"text-align: left;\">NK</td></tr><tr><td class = \"rowNumber\" style = \"font-weight: bold; text-align: right;\">4</td><td style = \"text-align: left;\">P1_L1_AAACCCATCTGCGGAC</td><td style = \"text-align: left;\">P1</td><td style = \"text-align: left;\">L1_AAACCCATCTGCGGAC</td><td style = \"text-align: right;\">0.0712244</td><td style = \"text-align: left;\">CD4 T</td></tr><tr><td class = \"rowNumber\" style = \"font-weight: bold; text-align: right;\">5</td><td style = \"text-align: left;\">P1_L1_AAACGAAAGTTACTCG</td><td style = \"text-align: left;\">P1</td><td style = \"text-align: left;\">L1_AAACGAAAGTTACTCG</td><td style = \"text-align: right;\">0.0625228</td><td style = \"text-align: left;\">CD4 T</td></tr></tbody></table></div>"
      ],
      "text/latex": [
       "\\begin{tabular}{r|ccccc}\n",
       "\t& id & sampleName & barcode & fraction\\_mt & celltype.l1\\\\\n",
       "\t\\hline\n",
       "\t& String & String & String & Float64 & String7?\\\\\n",
       "\t\\hline\n",
       "\t1 & P1\\_L1\\_AAACCCAAGACATACA & P1 & L1\\_AAACCCAAGACATACA & 0.0330832 & CD4 T \\\\\n",
       "\t2 & P1\\_L1\\_AAACCCACATCGGTTA & P1 & L1\\_AAACCCACATCGGTTA & 0.0649309 & Mono \\\\\n",
       "\t3 & P1\\_L1\\_AAACCCAGTGGAACAC & P1 & L1\\_AAACCCAGTGGAACAC & 0.0541372 & NK \\\\\n",
       "\t4 & P1\\_L1\\_AAACCCATCTGCGGAC & P1 & L1\\_AAACCCATCTGCGGAC & 0.0712244 & CD4 T \\\\\n",
       "\t5 & P1\\_L1\\_AAACGAAAGTTACTCG & P1 & L1\\_AAACGAAAGTTACTCG & 0.0625228 & CD4 T \\\\\n",
       "\\end{tabular}\n"
      ],
      "text/plain": [
       "\u001b[1m5×5 DataFrame\u001b[0m\n",
       "\u001b[1m Row \u001b[0m│\u001b[1m id                     \u001b[0m\u001b[1m sampleName \u001b[0m\u001b[1m barcode             \u001b[0m\u001b[1m fraction_mt \u001b[0m\u001b[1m c\u001b[0m ⋯\n",
       "     │\u001b[90m String                 \u001b[0m\u001b[90m String     \u001b[0m\u001b[90m String              \u001b[0m\u001b[90m Float64     \u001b[0m\u001b[90m S\u001b[0m ⋯\n",
       "─────┼──────────────────────────────────────────────────────────────────────────\n",
       "   1 │ P1_L1_AAACCCAAGACATACA  P1          L1_AAACCCAAGACATACA    0.0330832  C ⋯\n",
       "   2 │ P1_L1_AAACCCACATCGGTTA  P1          L1_AAACCCACATCGGTTA    0.0649309  M\n",
       "   3 │ P1_L1_AAACCCAGTGGAACAC  P1          L1_AAACCCAGTGGAACAC    0.0541372  N\n",
       "   4 │ P1_L1_AAACCCATCTGCGGAC  P1          L1_AAACCCATCTGCGGAC    0.0712244  C\n",
       "   5 │ P1_L1_AAACGAAAGTTACTCG  P1          L1_AAACGAAAGTTACTCG    0.0625228  C ⋯\n",
       "\u001b[36m                                                                1 column omitted\u001b[0m"
      ]
     },
     "execution_count": 28,
     "metadata": {},
     "output_type": "execute_result"
    }
   ],
   "source": [
    "## Observe some annotations from first few cells:\n",
    "\n",
    "counts.obs[1:5,[\"id\",\"sampleName\",\"barcode\",\"fraction_mt\",\"celltype.l1\"]]"
   ]
  },
  {
   "cell_type": "markdown",
   "id": "1f6bd2d4-ef8c-4f2e-91b1-92516d260b85",
   "metadata": {},
   "source": [
    "***TRANSFORMATION & NORMALIZATION***"
   ]
  },
  {
   "cell_type": "code",
   "execution_count": 29,
   "id": "99c2c1e1-8e01-4b5b-b72e-739ba32db83a",
   "metadata": {},
   "outputs": [
    {
     "data": {
      "text/plain": [
       "DataMatrix (20239 variables and 35340 observations)\n",
       "  A+B₁B₂B₃\n",
       "  Variables: \u001b[0m\u001b[4mid\u001b[24m, \u001b[0m\u001b[4mfeature_type\u001b[24m, \u001b[0mname, \u001b[0mgenome, \u001b[0mread, \u001b[0mpattern, \u001b[0msequence, \u001b[0mlogGeneMean, \u001b[0moutlier, \u001b[0mbeta0, ...\n",
       "  Observations: \u001b[0m\u001b[4mid\u001b[24m, \u001b[0msampleName, \u001b[0mbarcode, \u001b[0mfraction_mt, \u001b[0mnCount_ADT, \u001b[0mnFeature_ADT, \u001b[0mnCount_RNA, \u001b[0mnFeature_RNA, \u001b[0morig.ident, \u001b[0mlane, ...\n",
       "  Models: SCTransformModel(nvar=20239, clip=34.32), VarCountsFraction"
      ]
     },
     "execution_count": 29,
     "metadata": {},
     "output_type": "execute_result"
    }
   ],
   "source": [
    "transformed = sctransform(counts)"
   ]
  },
  {
   "cell_type": "code",
   "execution_count": 30,
   "id": "e4cc4c58-773d-41c0-a6bd-cd6615275211",
   "metadata": {},
   "outputs": [
    {
     "data": {
      "text/plain": [
       "DataMatrix (20239 variables and 35340 observations)\n",
       "  A+B₁B₂B₃+(-β)X'\n",
       "  Variables: \u001b[0m\u001b[4mid\u001b[24m, \u001b[0m\u001b[4mfeature_type\u001b[24m, \u001b[0mname, \u001b[0mgenome, \u001b[0mread, \u001b[0mpattern, \u001b[0msequence, \u001b[0mlogGeneMean, \u001b[0moutlier, \u001b[0mbeta0, ...\n",
       "  Observations: \u001b[0m\u001b[4mid\u001b[24m, \u001b[0msampleName, \u001b[0mbarcode, \u001b[0mfraction_mt, \u001b[0mnCount_ADT, \u001b[0mnFeature_ADT, \u001b[0mnCount_RNA, \u001b[0mnFeature_RNA, \u001b[0morig.ident, \u001b[0mlane, ...\n",
       "  Models: NormalizationModel(rank=2, ~1+num(fraction_mt)), SCTransform, VarCountsFraction"
      ]
     },
     "execution_count": 30,
     "metadata": {},
     "output_type": "execute_result"
    }
   ],
   "source": [
    "normalized = normalize_matrix(transformed, \"fraction_mt\")"
   ]
  },
  {
   "cell_type": "markdown",
   "id": "c38862e6-cce6-4fc9-aeba-d5a8659e091c",
   "metadata": {},
   "source": [
    "**FILTER (others)***"
   ]
  },
  {
   "cell_type": "code",
   "execution_count": 31,
   "id": "493cb739-2e48-48d2-ade1-f5ad464a33b6",
   "metadata": {},
   "outputs": [
    {
     "data": {
      "text/plain": [
       "DataMatrix (20239 variables and 34639 observations)\n",
       "  Aᵣ+B₁B₂B₃ᵣ+(-β)Xₗ'\n",
       "  Variables: \u001b[0m\u001b[4mid\u001b[24m, \u001b[0m\u001b[4mfeature_type\u001b[24m, \u001b[0mname, \u001b[0mgenome, \u001b[0mread, \u001b[0mpattern, \u001b[0msequence, \u001b[0mlogGeneMean, \u001b[0moutlier, \u001b[0mbeta0, ...\n",
       "  Observations: \u001b[0m\u001b[4mid\u001b[24m, \u001b[0msampleName, \u001b[0mbarcode, \u001b[0mfraction_mt, \u001b[0mnCount_ADT, \u001b[0mnFeature_ADT, \u001b[0mnCount_RNA, \u001b[0mnFeature_RNA, \u001b[0morig.ident, \u001b[0mlane, ...\n",
       "  Models: FilterModel(:, \"celltype.l1\"=>!Fix2{typeof(isequal), String}(isequal, \"other\")), Normalization, SCTransform, VarCountsFraction"
      ]
     },
     "execution_count": 31,
     "metadata": {},
     "output_type": "execute_result"
    }
   ],
   "source": [
    "filtered = filter_obs(\"celltype.l1\"=>!isequal(\"other\"), normalized)"
   ]
  },
  {
   "cell_type": "markdown",
   "id": "773c41eb-0dc1-41cd-8374-b39fea4b3ce3",
   "metadata": {},
   "source": [
    "***Principal Component Analysis (PCA)***"
   ]
  },
  {
   "cell_type": "code",
   "execution_count": 33,
   "id": "c2284b9f-9d89-401e-828b-46780eba883b",
   "metadata": {},
   "outputs": [
    {
     "data": {
      "text/plain": [
       "DataMatrix (20239 variables and 34639 observations)\n",
       "  SVD (20 dimensions)\n",
       "  Variables: \u001b[0m\u001b[4mid\u001b[24m, \u001b[0m\u001b[4mfeature_type\u001b[24m, \u001b[0mname, \u001b[0mgenome, \u001b[0mread, \u001b[0mpattern, \u001b[0msequence, \u001b[0mlogGeneMean, \u001b[0moutlier, \u001b[0mbeta0, ...\n",
       "  Observations: \u001b[0m\u001b[4mid\u001b[24m, \u001b[0msampleName, \u001b[0mbarcode, \u001b[0mfraction_mt, \u001b[0mnCount_ADT, \u001b[0mnFeature_ADT, \u001b[0mnCount_RNA, \u001b[0mnFeature_RNA, \u001b[0morig.ident, \u001b[0mlane, ...\n",
       "  Models: SVDModel(nsv=20), Filter, Normalization, SCTransform, VarCountsFraction"
      ]
     },
     "execution_count": 33,
     "metadata": {},
     "output_type": "execute_result"
    }
   ],
   "source": [
    "reduced = svd(filtered; nsv=20)"
   ]
  },
  {
   "cell_type": "code",
   "execution_count": 34,
   "id": "021b5409-69f5-4029-a5fc-555b56438b8f",
   "metadata": {},
   "outputs": [
    {
     "data": {
      "text/plain": [
       "DataMatrix (3 variables and 34639 observations)\n",
       "  Matrix{Float64}\n",
       "  Variables: \u001b[0m\u001b[4mid\u001b[24m\n",
       "  Observations: \u001b[0m\u001b[4mid\u001b[24m, \u001b[0msampleName, \u001b[0mbarcode, \u001b[0mfraction_mt, \u001b[0mnCount_ADT, \u001b[0mnFeature_ADT, \u001b[0mnCount_RNA, \u001b[0mnFeature_RNA, \u001b[0morig.ident, \u001b[0mlane, ...\n",
       "  Models: UMAPModel(n_components=3), SVD, Filter, Normalization, SCTransform, ..."
      ]
     },
     "execution_count": 34,
     "metadata": {},
     "output_type": "execute_result"
    }
   ],
   "source": [
    "umapped = umap(reduced, 3)"
   ]
  },
  {
   "cell_type": "code",
   "execution_count": 40,
   "id": "e6b54c0c-5111-4b6e-8f49-e24feb58aba5",
   "metadata": {},
   "outputs": [
    {
     "ename": "LoadError",
     "evalue": "ArgumentError: invalid index: 3×17 DataFrame\n Row │ id     sampleName  barcode  fraction_mt  nCount_ADT  nFeature_ADT  nCou ⋯\n     │ Bool   Bool        Bool     Bool         Bool        Bool          Bool ⋯\n─────┼──────────────────────────────────────────────────────────────────────────\n   1 │ false       false    false        false       false         false       ⋯\n   2 │ false       false    false        false       false         false\n   3 │ false       false    false        false       false         false\n                                                              11 columns omitted of type DataFrame",
     "output_type": "error",
     "traceback": [
      "ArgumentError: invalid index: 3×17 DataFrame\n Row │ id     sampleName  barcode  fraction_mt  nCount_ADT  nFeature_ADT  nCou ⋯\n     │ Bool   Bool        Bool     Bool         Bool        Bool          Bool ⋯\n─────┼──────────────────────────────────────────────────────────────────────────\n   1 │ false       false    false        false       false         false       ⋯\n   2 │ false       false    false        false       false         false\n   3 │ false       false    false        false       false         false\n                                                              11 columns omitted of type DataFrame",
      "",
      "Stacktrace:",
      "  [1] to_index(i::DataFrame)",
      "    @ Base ./indices.jl:300",
      "  [2] to_index(A::Matrix{Float64}, i::DataFrame)",
      "    @ Base ./indices.jl:277",
      "  [3] _to_indices1(A::Matrix{Float64}, inds::Tuple{Base.OneTo{Int64}}, I1::DataFrame)",
      "    @ Base ./indices.jl:359",
      "  [4] to_indices",
      "    @ ./indices.jl:354 [inlined]",
      "  [5] to_indices",
      "    @ ./indices.jl:355 [inlined]",
      "  [6] to_indices",
      "    @ ./indices.jl:344 [inlined]",
      "  [7] getindex",
      "    @ ./abstractarray.jl:1291 [inlined]",
      "  [8] plot_categorical_3d(data::DataMatrix{SVD{Float64, Float64, Matrix{Float64}, Vector{Float64}}, DataFrame, DataFrame}, annotation::String; marker_size::Int64)",
      "    @ Main ./In[40]:14",
      "  [9] plot_categorical_3d(data::DataMatrix{SVD{Float64, Float64, Matrix{Float64}, Vector{Float64}}, DataFrame, DataFrame}, annotation::String)",
      "    @ Main ./In[40]:3",
      " [10] top-level scope",
      "    @ In[40]:24"
     ]
    }
   ],
   "source": [
    "using Plots\n",
    "\n",
    "function plot_categorical_3d(data, annotation; marker_size=3)\n",
    "    points = obs_coordinates(data)\n",
    "    \n",
    "    # Group the data by the annotation column\n",
    "    groups = groupby(data.obs, annotation)\n",
    "    \n",
    "    # Create a plot\n",
    "    p = plot(; xlabel=\"X\", ylabel=\"Y\", zlabel=\"Z\", legend=:topleft, size=(800, 600))\n",
    "    \n",
    "    # Loop through the groups and add each one as a scatter3d trace\n",
    "    for (value, group) in pairs(groups)\n",
    "        x = points[1, group.== true]\n",
    "        y = points[2, group.== true]\n",
    "        z = points[3, group.== true]\n",
    "        scatter3d!(p, x, y, z; markersize=marker_size, label=string(value))\n",
    "    end\n",
    "    \n",
    "    return display(p)\n",
    "end\n",
    "\n",
    "\n",
    "plot_categorical_3d(reduced, \"celltype.l1\")"
   ]
  },
  {
   "cell_type": "code",
   "execution_count": 41,
   "id": "c4fcdda1-f6d6-40c8-b54d-0e9c361abe5e",
   "metadata": {},
   "outputs": [
    {
     "ename": "LoadError",
     "evalue": "ArgumentError: invalid index: 3×17 DataFrame\n Row │ id     sampleName  barcode  fraction_mt  nCount_ADT  nFeature_ADT  nCou ⋯\n     │ Bool   Bool        Bool     Bool         Bool        Bool          Bool ⋯\n─────┼──────────────────────────────────────────────────────────────────────────\n   1 │ false       false    false        false       false         false       ⋯\n   2 │ false       false    false        false       false         false\n   3 │ false       false    false        false       false         false\n                                                              11 columns omitted of type DataFrame",
     "output_type": "error",
     "traceback": [
      "ArgumentError: invalid index: 3×17 DataFrame\n Row │ id     sampleName  barcode  fraction_mt  nCount_ADT  nFeature_ADT  nCou ⋯\n     │ Bool   Bool        Bool     Bool         Bool        Bool          Bool ⋯\n─────┼──────────────────────────────────────────────────────────────────────────\n   1 │ false       false    false        false       false         false       ⋯\n   2 │ false       false    false        false       false         false\n   3 │ false       false    false        false       false         false\n                                                              11 columns omitted of type DataFrame",
      "",
      "Stacktrace:",
      "  [1] to_index(i::DataFrame)",
      "    @ Base ./indices.jl:300",
      "  [2] to_index(A::Matrix{Float64}, i::DataFrame)",
      "    @ Base ./indices.jl:277",
      "  [3] _to_indices1(A::Matrix{Float64}, inds::Tuple{Base.OneTo{Int64}}, I1::DataFrame)",
      "    @ Base ./indices.jl:359",
      "  [4] to_indices",
      "    @ ./indices.jl:354 [inlined]",
      "  [5] to_indices",
      "    @ ./indices.jl:355 [inlined]",
      "  [6] to_indices",
      "    @ ./indices.jl:344 [inlined]",
      "  [7] getindex",
      "    @ ./abstractarray.jl:1291 [inlined]",
      "  [8] plot_categorical_3d(data::DataMatrix{SVD{Float64, Float64, Matrix{Float64}, Vector{Float64}}, DataFrame, DataFrame}, annotation::String; marker_size::Int64)",
      "    @ Main ./In[40]:14",
      "  [9] plot_categorical_3d(data::DataMatrix{SVD{Float64, Float64, Matrix{Float64}, Vector{Float64}}, DataFrame, DataFrame}, annotation::String)",
      "    @ Main ./In[40]:3",
      " [10] top-level scope",
      "    @ In[41]:1"
     ]
    }
   ],
   "source": [
    "display(plot_categorical_3d(reduced, \"celltype.l1\"))"
   ]
  }
 ],
 "metadata": {
  "kernelspec": {
   "display_name": "Julia 1.10.2",
   "language": "julia",
   "name": "julia-1.10"
  },
  "language_info": {
   "file_extension": ".jl",
   "mimetype": "application/julia",
   "name": "julia",
   "version": "1.10.2"
  }
 },
 "nbformat": 4,
 "nbformat_minor": 5
}
